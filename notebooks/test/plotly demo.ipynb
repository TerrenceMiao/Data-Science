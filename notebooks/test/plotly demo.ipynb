{
 "cells": [
  {
   "cell_type": "code",
   "execution_count": 2,
   "metadata": {},
   "outputs": [
    {
     "name": "stdout",
     "output_type": "stream",
     "text": [
      "High five! You successfully sent some data to your account on plotly. View your plot in your browser at https://plot.ly/~TerrenceMiao/0 or inside your plot.ly account where it is named 'numpy-normalize-2-norm'\n"
     ]
    },
    {
     "data": {
      "text/html": [
       "<iframe id=\"igraph\" scrolling=\"no\" style=\"border:none;\" seamless=\"seamless\" src=\"https://plot.ly/~TerrenceMiao/0.embed\" height=\"525px\" width=\"100%\"></iframe>"
      ],
      "text/plain": [
       "<plotly.tools.PlotlyDisplay object>"
      ]
     },
     "execution_count": 2,
     "metadata": {},
     "output_type": "execute_result"
    }
   ],
   "source": [
    "import numpy as np\n",
    "import plotly.plotly as py\n",
    "import plotly.graph_objs as go\n",
    "\n",
    "size = 40\n",
    "\n",
    "array_normal = np.random.randn(size)\n",
    "array_random = np.random.random(size)\n",
    "\n",
    "trace_1 = go.Scatter(\n",
    "    x=[i for i in range(size)],\n",
    "    y=array_normal,\n",
    "    mode='markers',\n",
    "    name='Normal Dist',\n",
    "    marker=dict(\n",
    "        color='#F23557',\n",
    "        size=2*int(np.linalg.norm(array_normal))\n",
    "    )\n",
    ")\n",
    "\n",
    "trace_2 = go.Scatter(\n",
    "    x=[i for i in range(size)],\n",
    "    y=array_random,\n",
    "    mode='markers',\n",
    "    name='From [0, 1)',\n",
    "    marker=dict(\n",
    "        color='#1E64F0',\n",
    "        size=2*int(np.linalg.norm(array_random))\n",
    "    )\n",
    ")\n",
    "\n",
    "data = [trace_1, trace_2]\n",
    "py.iplot(data, filename='numpy-normalize-2-norm')"
   ]
  },
  {
   "cell_type": "code",
   "execution_count": null,
   "metadata": {
    "collapsed": true
   },
   "outputs": [],
   "source": []
  }
 ],
 "metadata": {
  "kernelspec": {
   "display_name": "Python 3",
   "language": "python",
   "name": "python3"
  },
  "language_info": {
   "codemirror_mode": {
    "name": "ipython",
    "version": 3
   },
   "file_extension": ".py",
   "mimetype": "text/x-python",
   "name": "python",
   "nbconvert_exporter": "python",
   "pygments_lexer": "ipython3",
   "version": "3.6.1"
  }
 },
 "nbformat": 4,
 "nbformat_minor": 2
}
